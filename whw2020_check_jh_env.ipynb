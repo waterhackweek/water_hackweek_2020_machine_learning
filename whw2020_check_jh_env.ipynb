{
 "cells": [
  {
   "cell_type": "markdown",
   "metadata": {},
   "source": [
    "# Notebook to Check a JupyterHub Software Environment \n",
    "<img src= \"https://github.com/waterhackweek/waterhackweek.github.io/blob/master/assets/images/waterhackweek2020logo-words.JPG?raw=true\"\n",
    "style=\"float:left;width:175px;padding:10px\">   \n",
    "Github Source: [WHW2020_machinelearning tutorial on Github](https://github.com/waterhackweek/whw2020_machine_learning)<br />\n",
    "Authors: [Andreas Müller](https://github.com/amueller), [Christina Bandaragoda](https://github.com/ChristinaB)<br />\n",
    "<br />\n",
    "<br />\n",
    "## List of open source software requirements with specific versions for WHW2020 Landslide Machine Learning Tutorial"
   ]
  },
  {
   "cell_type": "code",
   "execution_count": 1,
   "metadata": {},
   "outputs": [],
   "source": [
    "requirements = {'numpy': \"1.6.1\", 'scipy': \"1.0\", 'matplotlib': \"2.0\",\n",
    "                'IPython': \"3.0\", 'sklearn': \"0.22.1\", 'pandas': \"0.18\"}"
   ]
  },
  {
   "cell_type": "markdown",
   "metadata": {},
   "source": [
    "## Software Imports and Functions"
   ]
  },
  {
   "cell_type": "code",
   "execution_count": 2,
   "metadata": {},
   "outputs": [],
   "source": [
    "from distutils.version import LooseVersion as Version\n",
    "import sys\n",
    "\n",
    "\n",
    "OK = '\\x1b[42m[ OK ]\\x1b[0m'\n",
    "FAIL = \"\\x1b[41m[FAIL]\\x1b[0m\"\n",
    "\n",
    "try:\n",
    "    import importlib\n",
    "except ImportError:\n",
    "    print(FAIL, \"Python version 3.5 is required,\"\n",
    "                \" but %s is installed.\" % sys.version)\n",
    "\n",
    "    \n",
    "def import_version(pkg, min_ver, fail_msg=\"\"):\n",
    "    mod = None\n",
    "    try:\n",
    "        mod = importlib.import_module(pkg)\n",
    "        ver = mod.__version__\n",
    "        if Version(ver) < min_ver:\n",
    "            print(FAIL, \"%s version %s or higher required, but %s installed.\"\n",
    "                  % (lib, min_ver, ver))\n",
    "        else:\n",
    "            print(OK, '%s version %s' % (pkg, ver))\n",
    "    except ImportError:\n",
    "        print(FAIL, '%s not installed. %s' % (pkg, fail_msg))\n",
    "    return mod\n"
   ]
  },
  {
   "cell_type": "markdown",
   "metadata": {},
   "source": [
    "# First Check with Python version"
   ]
  },
  {
   "cell_type": "code",
   "execution_count": 3,
   "metadata": {},
   "outputs": [
    {
     "name": "stdout",
     "output_type": "stream",
     "text": [
      "Using python in /home/jovyan/data/conda-envs/covid19\n",
      "3.8.2 | packaged by conda-forge | (default, Apr 24 2020, 08:20:52) \n",
      "[GCC 7.3.0]\n",
      "\n",
      "\u001b[42m[ OK ]\u001b[0m numpy version 1.18.4\n",
      "\u001b[42m[ OK ]\u001b[0m scipy version 1.4.1\n",
      "\u001b[42m[ OK ]\u001b[0m matplotlib version 3.3.3\n",
      "\u001b[42m[ OK ]\u001b[0m IPython version 7.17.0\n",
      "\u001b[42m[ OK ]\u001b[0m sklearn version 0.23.2\n",
      "\u001b[42m[ OK ]\u001b[0m pandas version 1.1.0\n"
     ]
    }
   ],
   "source": [
    "print('Using python in', sys.prefix)\n",
    "print(sys.version)\n",
    "pyversion = Version(sys.version)\n",
    "if pyversion < \"3.5\":\n",
    "    print(FAIL, \"Python version 3.5 is required,\"\n",
    "                \" but %s is installed.\" % sys.version)\n",
    "print()\n",
    "\n",
    "\n",
    "# now the dependencies\n",
    "for lib, required_version in list(requirements.items()):\n",
    "    import_version(lib, required_version)"
   ]
  },
  {
   "cell_type": "markdown",
   "metadata": {},
   "source": [
    "## Install missing software \n",
    "\n",
    "**Note: In this example, sklearn and matplotlib are missing in the CUAHSI JupyterHub COVID19 Kernel, and so installed below**"
   ]
  },
  {
   "cell_type": "code",
   "execution_count": 4,
   "metadata": {},
   "outputs": [
    {
     "name": "stdout",
     "output_type": "stream",
     "text": [
      "Requirement already satisfied: sklearn in /home/jovyan/data/conda-envs/covid19/lib/python3.8/site-packages (0.0)\n",
      "Requirement already satisfied: scikit-learn in /home/jovyan/data/conda-envs/covid19/lib/python3.8/site-packages (from sklearn) (0.23.2)\n",
      "Requirement already satisfied: numpy>=1.13.3 in /home/jovyan/data/conda-envs/covid19/lib/python3.8/site-packages (from scikit-learn->sklearn) (1.18.4)\n",
      "Requirement already satisfied: scipy>=0.19.1 in /home/jovyan/data/conda-envs/covid19/lib/python3.8/site-packages (from scikit-learn->sklearn) (1.4.1)\n",
      "Requirement already satisfied: threadpoolctl>=2.0.0 in /home/jovyan/data/conda-envs/covid19/lib/python3.8/site-packages (from scikit-learn->sklearn) (2.1.0)\n",
      "Requirement already satisfied: joblib>=0.11 in /home/jovyan/data/conda-envs/covid19/lib/python3.8/site-packages (from scikit-learn->sklearn) (0.17.0)\n",
      "Requirement already satisfied: matplotlib in /home/jovyan/data/conda-envs/covid19/lib/python3.8/site-packages (3.3.3)\n",
      "Requirement already satisfied: pyparsing!=2.0.4,!=2.1.2,!=2.1.6,>=2.0.3 in /home/jovyan/data/conda-envs/covid19/lib/python3.8/site-packages (from matplotlib) (2.4.7)\n",
      "Requirement already satisfied: pillow>=6.2.0 in /home/jovyan/data/conda-envs/covid19/lib/python3.8/site-packages (from matplotlib) (7.2.0)\n",
      "Requirement already satisfied: kiwisolver>=1.0.1 in /home/jovyan/data/conda-envs/covid19/lib/python3.8/site-packages (from matplotlib) (1.3.1)\n",
      "Requirement already satisfied: python-dateutil>=2.1 in /home/jovyan/data/conda-envs/covid19/lib/python3.8/site-packages (from matplotlib) (2.8.1)\n",
      "Requirement already satisfied: numpy>=1.15 in /home/jovyan/data/conda-envs/covid19/lib/python3.8/site-packages (from matplotlib) (1.18.4)\n",
      "Requirement already satisfied: cycler>=0.10 in /home/jovyan/data/conda-envs/covid19/lib/python3.8/site-packages (from matplotlib) (0.10.0)\n",
      "Requirement already satisfied: six>=1.5 in /home/jovyan/data/conda-envs/covid19/lib/python3.8/site-packages (from python-dateutil>=2.1->matplotlib) (1.14.0)\n"
     ]
    }
   ],
   "source": [
    "import sys\n",
    "!{sys.executable} -m pip install sklearn\n",
    "!{sys.executable} -m pip install matplotlib"
   ]
  },
  {
   "cell_type": "markdown",
   "metadata": {},
   "source": [
    "## After installing missing libraries, run the version check for full list to ensure installation is OK."
   ]
  },
  {
   "cell_type": "code",
   "execution_count": 5,
   "metadata": {},
   "outputs": [
    {
     "name": "stdout",
     "output_type": "stream",
     "text": [
      "\u001b[42m[ OK ]\u001b[0m numpy version 1.18.4\n",
      "\u001b[42m[ OK ]\u001b[0m scipy version 1.4.1\n",
      "\u001b[42m[ OK ]\u001b[0m matplotlib version 3.3.3\n",
      "\u001b[42m[ OK ]\u001b[0m IPython version 7.17.0\n",
      "\u001b[42m[ OK ]\u001b[0m sklearn version 0.23.2\n",
      "\u001b[42m[ OK ]\u001b[0m pandas version 1.1.0\n"
     ]
    }
   ],
   "source": [
    "for lib, required_version in list(requirements.items()):\n",
    "    import_version(lib, required_version)"
   ]
  },
  {
   "cell_type": "markdown",
   "metadata": {},
   "source": [
    "\n",
    "# References\n",
    "**Title: Waterhackweek Notebook to Check a JupyterHub Software Environment**\n",
    "<img src= \"https://github.com/waterhackweek/waterhackweek.github.io/blob/master/assets/images/waterhackweek2020logo-words.JPG?raw=true\"\n",
    "style=\"float:left;width:175px;padding:10px\">   \n",
    "Source: [WHW2020_machinelearning tutorial on Github](https://github.com/waterhackweek/whw2020_machine_learning)<br />\n",
    "Authors: Andreas Müller, Christina Bandaragoda<br />\n",
    "[Waterhackweek OrcID: 0000-0001-7733-7419](https://orcid.org/0000-0001-7733-7419)  <br />\n",
    "NSF Award to [UW 1829585](https://nsf.gov/awardsearch/showAward?AWD_ID=1829585&HistoricalAwards=false) and [CUAHSI 1829744](https://nsf.gov/awardsearch/showAward?AWD_ID=1829744&HistoricalAwards=false)  <br />\n",
    "[Download Machine Learning Tutorial at Waterhackweek: Live unedited tutorial recorded 9/2/2020 [MP4]](https://www.hydroshare.org/resource/c59689b403b3484182b016fbcd0267ac/data/contents/wednesdayLectures2020/2020.9._Andreas.mp4)<br />\n",
    "\n",
    "### Check out our [Intelligent Earth Zotero Library](https://www.zotero.org/groups/2526780/intelligent_earth/library) and Citation Wrangling Notebook [Open-Interoperability-References](https://github.com/waterhackweek/whw2020_machine_learning/blob/master/notebooks/Open-Interoperability-References.ipynb) \n"
   ]
  },
  {
   "cell_type": "code",
   "execution_count": null,
   "metadata": {},
   "outputs": [],
   "source": []
  }
 ],
 "metadata": {
  "anaconda-cloud": {},
  "kernelspec": {
   "display_name": "Python [conda env:covid19]",
   "language": "python",
   "name": "conda-env-covid19-py"
  },
  "language_info": {
   "codemirror_mode": {
    "name": "ipython",
    "version": 3
   },
   "file_extension": ".py",
   "mimetype": "text/x-python",
   "name": "python",
   "nbconvert_exporter": "python",
   "pygments_lexer": "ipython3",
   "version": "3.8.2"
  }
 },
 "nbformat": 4,
 "nbformat_minor": 4
}
