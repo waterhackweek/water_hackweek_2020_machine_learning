{
 "cells": [
  {
   "cell_type": "markdown",
   "metadata": {},
   "source": [
    "# Notebook to Update Software on a JupyterHub \n",
    "## Landlab Kernel on CyberGIS for Water (CJW)\n",
    "<img src= \"https://github.com/waterhackweek/waterhackweek.github.io/blob/master/assets/images/waterhackweek2020logo-words.JPG?raw=true\"\n",
    "style=\"float:left;width:175px;padding:10px\">   \n",
    "Github Source: [WHW2020_machinelearning tutorial on Github](https://github.com/waterhackweek/whw2020_machine_learning)<br />\n",
    "Authors: [Andreas Müller](https://github.com/amueller), [Christina Bandaragoda](https://github.com/ChristinaB)<br />\n",
    "<br />\n",
    "<br />\n",
    "### Install `dabl` and `sklearn` software requirements for WHW2020 Landslide Machine Learning Tutorial\n",
    "\n",
    "### Run one cell.  See the _Waterhackweek Notebook to Check a JupyterHub Software Environment_ for more details."
   ]
  },
  {
   "cell_type": "code",
   "execution_count": 1,
   "metadata": {},
   "outputs": [
    {
     "name": "stdout",
     "output_type": "stream",
     "text": [
      "Using python in /opt/conda/envs/landlab\n",
      "3.7.8 | packaged by conda-forge | (default, Jul 31 2020, 02:25:08) \n",
      "[GCC 7.5.0]\n",
      "\n",
      "\u001b[42m[ OK ]\u001b[0m numpy version 1.19.1\n",
      "\u001b[42m[ OK ]\u001b[0m scipy version 1.2.3\n",
      "\u001b[42m[ OK ]\u001b[0m matplotlib version 3.3.1\n",
      "\u001b[42m[ OK ]\u001b[0m IPython version 7.17.0\n",
      "\u001b[41m[FAIL]\u001b[0m sklearn not installed. \n",
      "\u001b[42m[ OK ]\u001b[0m pandas version 1.1.0\n"
     ]
    }
   ],
   "source": [
    "requirements = {'numpy': \"1.6.1\", 'scipy': \"1.0\", 'matplotlib': \"2.0\",\n",
    "                'IPython': \"3.0\", 'sklearn': \"0.22.1\", 'pandas': \"0.18\"}\n",
    "\n",
    "from distutils.version import LooseVersion as Version\n",
    "import sys\n",
    "\n",
    "\n",
    "OK = '\\x1b[42m[ OK ]\\x1b[0m'\n",
    "FAIL = \"\\x1b[41m[FAIL]\\x1b[0m\"\n",
    "\n",
    "try:\n",
    "    import importlib\n",
    "except ImportError:\n",
    "    print(FAIL, \"Python version 3.5 is required,\"\n",
    "                \" but %s is installed.\" % sys.version)\n",
    "\n",
    "    \n",
    "def import_version(pkg, min_ver, fail_msg=\"\"):\n",
    "    mod = None\n",
    "    try:\n",
    "        mod = importlib.import_module(pkg)\n",
    "        ver = mod.__version__\n",
    "        if Version(ver) < min_ver:\n",
    "            print(FAIL, \"%s version %s or higher required, but %s installed.\"\n",
    "                  % (lib, min_ver, ver))\n",
    "        else:\n",
    "            print(OK, '%s version %s' % (pkg, ver))\n",
    "    except ImportError:\n",
    "        print(FAIL, '%s not installed. %s' % (pkg, fail_msg))\n",
    "    return mod\n",
    "\n",
    "\n",
    "# first check the python version\n",
    "print('Using python in', sys.prefix)\n",
    "print(sys.version)\n",
    "pyversion = Version(sys.version)\n",
    "if pyversion < \"3.5\":\n",
    "    print(FAIL, \"Python version 3.5 is required,\"\n",
    "                \" but %s is installed.\" % sys.version)\n",
    "print()\n",
    "requirements = {'numpy': \"1.6.1\", 'scipy': \"1.0\", 'matplotlib': \"2.0\",\n",
    "                'IPython': \"3.0\", 'sklearn': \"0.22.1\", 'pandas': \"0.18\"}\n",
    "\n",
    "# now the dependencies\n",
    "for lib, required_version in list(requirements.items()):\n",
    "    import_version(lib, required_version)"
   ]
  },
  {
   "cell_type": "code",
   "execution_count": 1,
   "metadata": {},
   "outputs": [
    {
     "name": "stdout",
     "output_type": "stream",
     "text": [
      "Requirement already satisfied: sklearn in /opt/conda/envs/landlab/lib/python3.7/site-packages (0.0)\n",
      "Collecting dabl\n",
      "  Downloading dabl-0.1.8.tar.gz (559 kB)\n",
      "\u001b[K     |████████████████████████████████| 559 kB 4.0 MB/s eta 0:00:01\n",
      "\u001b[?25hRequirement already satisfied: scikit-learn in /opt/conda/envs/landlab/lib/python3.7/site-packages (from sklearn) (0.23.2)\n",
      "Requirement already satisfied: numpy in /opt/conda/envs/landlab/lib/python3.7/site-packages (from dabl) (1.19.1)\n",
      "Requirement already satisfied: scipy in /opt/conda/envs/landlab/lib/python3.7/site-packages (from dabl) (1.2.3)\n",
      "Requirement already satisfied: pandas in /opt/conda/envs/landlab/lib/python3.7/site-packages (from dabl) (1.1.0)\n",
      "Requirement already satisfied: matplotlib in /opt/conda/envs/landlab/lib/python3.7/site-packages (from dabl) (3.3.1)\n",
      "Requirement already satisfied: seaborn in /opt/conda/envs/landlab/lib/python3.7/site-packages (from dabl) (0.10.1)\n",
      "Requirement already satisfied: threadpoolctl>=2.0.0 in /opt/conda/envs/landlab/lib/python3.7/site-packages (from scikit-learn->sklearn) (2.1.0)\n",
      "Requirement already satisfied: joblib>=0.11 in /opt/conda/envs/landlab/lib/python3.7/site-packages (from scikit-learn->sklearn) (0.16.0)\n",
      "Requirement already satisfied: python-dateutil>=2.7.3 in /opt/conda/envs/landlab/lib/python3.7/site-packages (from pandas->dabl) (2.8.1)\n",
      "Requirement already satisfied: pytz>=2017.2 in /opt/conda/envs/landlab/lib/python3.7/site-packages (from pandas->dabl) (2020.1)\n",
      "Requirement already satisfied: cycler>=0.10 in /opt/conda/envs/landlab/lib/python3.7/site-packages (from matplotlib->dabl) (0.10.0)\n",
      "Requirement already satisfied: kiwisolver>=1.0.1 in /opt/conda/envs/landlab/lib/python3.7/site-packages (from matplotlib->dabl) (1.2.0)\n",
      "Requirement already satisfied: pillow>=6.2.0 in /opt/conda/envs/landlab/lib/python3.7/site-packages (from matplotlib->dabl) (7.2.0)\n",
      "Requirement already satisfied: certifi>=2020.06.20 in /opt/conda/envs/landlab/lib/python3.7/site-packages (from matplotlib->dabl) (2020.6.20)\n",
      "Requirement already satisfied: pyparsing!=2.0.4,!=2.1.2,!=2.1.6,>=2.0.3 in /opt/conda/envs/landlab/lib/python3.7/site-packages (from matplotlib->dabl) (2.4.7)\n",
      "Requirement already satisfied: six>=1.5 in /opt/conda/envs/landlab/lib/python3.7/site-packages (from python-dateutil>=2.7.3->pandas->dabl) (1.15.0)\n",
      "Building wheels for collected packages: dabl\n",
      "  Building wheel for dabl (setup.py) ... \u001b[?25ldone\n",
      "\u001b[?25h  Created wheel for dabl: filename=dabl-0.1.8-py3-none-any.whl size=565074 sha256=4d78fb0f29fc41d7afe94bc5c840a85b38b60790aab390ac6fd45f19153fe48c\n",
      "  Stored in directory: /home/jovyan/.cache/pip/wheels/76/ab/fe/ba8715c1dbee08327ef56259f0f774fff9c6f84a112f329280\n",
      "Successfully built dabl\n",
      "Installing collected packages: dabl\n",
      "Successfully installed dabl-0.1.8\n"
     ]
    }
   ],
   "source": [
    "import sys\n",
    "!{sys.executable} -m pip install sklearn\n",
    "!{sys.executable} -m pip install dabl"
   ]
  },
  {
   "cell_type": "markdown",
   "metadata": {},
   "source": [
    "\n",
    "# References\n",
    "**Title: Waterhackweek Notebook to Update Software on a JupyterHub: Landlab Kernel on CyberGIS for Water (CJW)**\n",
    "<img src= \"https://github.com/waterhackweek/waterhackweek.github.io/blob/master/assets/images/waterhackweek2020logo-words.JPG?raw=true\"\n",
    "style=\"float:left;width:175px;padding:10px\">   \n",
    "Source: [WHW2020_machinelearning tutorial on Github](https://github.com/waterhackweek/whw2020_machine_learning)<br />\n",
    "Authors: Andreas Müller, Christina Bandaragoda<br />\n",
    "[Waterhackweek OrcID: 0000-0001-7733-7419](https://orcid.org/0000-0001-7733-7419)  <br />\n",
    "NSF Award to [UW 1829585](https://nsf.gov/awardsearch/showAward?AWD_ID=1829585&HistoricalAwards=false) and [CUAHSI 1829744](https://nsf.gov/awardsearch/showAward?AWD_ID=1829744&HistoricalAwards=false)  <br />\n",
    "[Download Machine Learning Tutorial at Waterhackweek: Live unedited tutorial recorded 9/2/2020 [MP4]](https://www.hydroshare.org/resource/c59689b403b3484182b016fbcd0267ac/data/contents/wednesdayLectures2020/2020.9._Andreas.mp4)<br />\n",
    "\n",
    "### Check out our [Intelligent Earth Zotero Library](https://www.zotero.org/groups/2526780/intelligent_earth/library) and Citation Wrangling Notebook [Open-Interoperability-References](https://github.com/waterhackweek/whw2020_machine_learning/blob/master/notebooks/Open-Interoperability-References.ipynb) \n"
   ]
  },
  {
   "cell_type": "code",
   "execution_count": null,
   "metadata": {},
   "outputs": [],
   "source": []
  }
 ],
 "metadata": {
  "anaconda-cloud": {},
  "kernelspec": {
   "display_name": "Python [conda env:covid19]",
   "language": "python",
   "name": "conda-env-covid19-py"
  },
  "language_info": {
   "codemirror_mode": {
    "name": "ipython",
    "version": 3
   },
   "file_extension": ".py",
   "mimetype": "text/x-python",
   "name": "python",
   "nbconvert_exporter": "python",
   "pygments_lexer": "ipython3",
   "version": "3.8.2"
  }
 },
 "nbformat": 4,
 "nbformat_minor": 4
}
