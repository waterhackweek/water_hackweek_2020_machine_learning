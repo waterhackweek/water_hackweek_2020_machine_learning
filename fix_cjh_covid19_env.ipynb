{
 "cells": [
  {
   "cell_type": "markdown",
   "metadata": {},
   "source": [
    "# Notebook to Update Software on a JupyterHub \n",
    "## COVID-19 Kernel on CUAHSI JupyterHub (CJH)\n",
    "<img src= \"https://github.com/waterhackweek/waterhackweek.github.io/blob/master/assets/images/waterhackweek2020logo-words.JPG?raw=true\"\n",
    "style=\"float:left;width:175px;padding:10px\">   \n",
    "Github Source: [WHW2020_machinelearning tutorial on Github](https://github.com/waterhackweek/whw2020_machine_learning)<br />\n",
    "Authors: [Andreas Müller](https://github.com/amueller), [Christina Bandaragoda](https://github.com/ChristinaB)<br />\n",
    "<br />\n",
    "<br />\n",
    "### Install `matplotlib` and `sklearn` software requirements for WHW2020 Landslide Machine Learning Tutorial\n",
    "\n",
    "### Run one cell.  See the _Waterhackweek Notebook to Check a JupyterHub Software Environment_ for more details."
   ]
  },
  {
   "cell_type": "code",
   "execution_count": 1,
   "metadata": {},
   "outputs": [
    {
     "name": "stdout",
     "output_type": "stream",
     "text": [
      "Using python in /opt/conda/envs/landlab\n",
      "3.7.8 | packaged by conda-forge | (default, Jul 31 2020, 02:25:08) \n",
      "[GCC 7.5.0]\n",
      "\n",
      "\u001b[42m[ OK ]\u001b[0m numpy version 1.19.1\n",
      "\u001b[42m[ OK ]\u001b[0m scipy version 1.2.3\n",
      "\u001b[42m[ OK ]\u001b[0m matplotlib version 3.3.1\n",
      "\u001b[42m[ OK ]\u001b[0m IPython version 7.17.0\n",
      "\u001b[41m[FAIL]\u001b[0m sklearn not installed. \n",
      "\u001b[42m[ OK ]\u001b[0m pandas version 1.1.0\n"
     ]
    }
   ],
   "source": [
    "requirements = {'numpy': \"1.6.1\", 'scipy': \"1.0\", 'matplotlib': \"2.0\",\n",
    "                'IPython': \"3.0\", 'sklearn': \"0.22.1\", 'pandas': \"0.18\"}\n",
    "\n",
    "from distutils.version import LooseVersion as Version\n",
    "import sys\n",
    "\n",
    "\n",
    "OK = '\\x1b[42m[ OK ]\\x1b[0m'\n",
    "FAIL = \"\\x1b[41m[FAIL]\\x1b[0m\"\n",
    "\n",
    "try:\n",
    "    import importlib\n",
    "except ImportError:\n",
    "    print(FAIL, \"Python version 3.5 is required,\"\n",
    "                \" but %s is installed.\" % sys.version)\n",
    "\n",
    "    \n",
    "def import_version(pkg, min_ver, fail_msg=\"\"):\n",
    "    mod = None\n",
    "    try:\n",
    "        mod = importlib.import_module(pkg)\n",
    "        ver = mod.__version__\n",
    "        if Version(ver) < min_ver:\n",
    "            print(FAIL, \"%s version %s or higher required, but %s installed.\"\n",
    "                  % (lib, min_ver, ver))\n",
    "        else:\n",
    "            print(OK, '%s version %s' % (pkg, ver))\n",
    "    except ImportError:\n",
    "        print(FAIL, '%s not installed. %s' % (pkg, fail_msg))\n",
    "    return mod\n",
    "\n",
    "\n",
    "# first check the python version\n",
    "print('Using python in', sys.prefix)\n",
    "print(sys.version)\n",
    "pyversion = Version(sys.version)\n",
    "if pyversion < \"3.5\":\n",
    "    print(FAIL, \"Python version 3.5 is required,\"\n",
    "                \" but %s is installed.\" % sys.version)\n",
    "print()\n",
    "requirements = {'numpy': \"1.6.1\", 'scipy': \"1.0\", 'matplotlib': \"2.0\",\n",
    "                'IPython': \"3.0\", 'sklearn': \"0.22.1\", 'pandas': \"0.18\"}\n",
    "\n",
    "# now the dependencies\n",
    "for lib, required_version in list(requirements.items()):\n",
    "    import_version(lib, required_version)"
   ]
  },
  {
   "cell_type": "code",
   "execution_count": 3,
   "metadata": {},
   "outputs": [
    {
     "name": "stdout",
     "output_type": "stream",
     "text": [
      "Requirement already satisfied: sklearn in /home/jovyan/data/conda-envs/covid19/lib/python3.8/site-packages (0.0)\n",
      "Requirement already satisfied: scikit-learn in /home/jovyan/data/conda-envs/covid19/lib/python3.8/site-packages (from sklearn) (0.23.2)\n",
      "Requirement already satisfied: scipy>=0.19.1 in /home/jovyan/data/conda-envs/covid19/lib/python3.8/site-packages (from scikit-learn->sklearn) (1.4.1)\n",
      "Requirement already satisfied: numpy>=1.13.3 in /home/jovyan/data/conda-envs/covid19/lib/python3.8/site-packages (from scikit-learn->sklearn) (1.18.4)\n",
      "Requirement already satisfied: joblib>=0.11 in /home/jovyan/data/conda-envs/covid19/lib/python3.8/site-packages (from scikit-learn->sklearn) (0.17.0)\n",
      "Requirement already satisfied: threadpoolctl>=2.0.0 in /home/jovyan/data/conda-envs/covid19/lib/python3.8/site-packages (from scikit-learn->sklearn) (2.1.0)\n",
      "Requirement already satisfied: matplotlib in /home/jovyan/data/conda-envs/covid19/lib/python3.8/site-packages (3.3.3)\n",
      "Requirement already satisfied: pyparsing!=2.0.4,!=2.1.2,!=2.1.6,>=2.0.3 in /home/jovyan/data/conda-envs/covid19/lib/python3.8/site-packages (from matplotlib) (2.4.7)\n",
      "Requirement already satisfied: numpy>=1.15 in /home/jovyan/data/conda-envs/covid19/lib/python3.8/site-packages (from matplotlib) (1.18.4)\n",
      "Requirement already satisfied: pillow>=6.2.0 in /home/jovyan/data/conda-envs/covid19/lib/python3.8/site-packages (from matplotlib) (7.2.0)\n",
      "Requirement already satisfied: python-dateutil>=2.1 in /home/jovyan/data/conda-envs/covid19/lib/python3.8/site-packages (from matplotlib) (2.8.1)\n",
      "Requirement already satisfied: kiwisolver>=1.0.1 in /home/jovyan/data/conda-envs/covid19/lib/python3.8/site-packages (from matplotlib) (1.3.1)\n",
      "Requirement already satisfied: cycler>=0.10 in /home/jovyan/data/conda-envs/covid19/lib/python3.8/site-packages (from matplotlib) (0.10.0)\n",
      "Requirement already satisfied: six>=1.5 in /home/jovyan/data/conda-envs/covid19/lib/python3.8/site-packages (from python-dateutil>=2.1->matplotlib) (1.14.0)\n",
      "Requirement already satisfied: dabl in /home/jovyan/data/conda-envs/covid19/lib/python3.8/site-packages (0.1.9)\n",
      "Requirement already satisfied: numpy in /home/jovyan/data/conda-envs/covid19/lib/python3.8/site-packages (from dabl) (1.18.4)\n",
      "Requirement already satisfied: scipy in /home/jovyan/data/conda-envs/covid19/lib/python3.8/site-packages (from dabl) (1.4.1)\n",
      "Requirement already satisfied: pandas in /home/jovyan/data/conda-envs/covid19/lib/python3.8/site-packages (from dabl) (1.1.0)\n",
      "Requirement already satisfied: matplotlib in /home/jovyan/data/conda-envs/covid19/lib/python3.8/site-packages (from dabl) (3.3.3)\n",
      "Requirement already satisfied: scikit-learn in /home/jovyan/data/conda-envs/covid19/lib/python3.8/site-packages (from dabl) (0.23.2)\n",
      "Requirement already satisfied: seaborn in /home/jovyan/data/conda-envs/covid19/lib/python3.8/site-packages (from dabl) (0.11.0)\n",
      "Requirement already satisfied: pytz>=2017.2 in /home/jovyan/data/conda-envs/covid19/lib/python3.8/site-packages (from pandas->dabl) (2020.1)\n",
      "Requirement already satisfied: python-dateutil>=2.7.3 in /home/jovyan/data/conda-envs/covid19/lib/python3.8/site-packages (from pandas->dabl) (2.8.1)\n",
      "Requirement already satisfied: pyparsing!=2.0.4,!=2.1.2,!=2.1.6,>=2.0.3 in /home/jovyan/data/conda-envs/covid19/lib/python3.8/site-packages (from matplotlib->dabl) (2.4.7)\n",
      "Requirement already satisfied: pillow>=6.2.0 in /home/jovyan/data/conda-envs/covid19/lib/python3.8/site-packages (from matplotlib->dabl) (7.2.0)\n",
      "Requirement already satisfied: kiwisolver>=1.0.1 in /home/jovyan/data/conda-envs/covid19/lib/python3.8/site-packages (from matplotlib->dabl) (1.3.1)\n",
      "Requirement already satisfied: cycler>=0.10 in /home/jovyan/data/conda-envs/covid19/lib/python3.8/site-packages (from matplotlib->dabl) (0.10.0)\n",
      "Requirement already satisfied: threadpoolctl>=2.0.0 in /home/jovyan/data/conda-envs/covid19/lib/python3.8/site-packages (from scikit-learn->dabl) (2.1.0)\n",
      "Requirement already satisfied: joblib>=0.11 in /home/jovyan/data/conda-envs/covid19/lib/python3.8/site-packages (from scikit-learn->dabl) (0.17.0)\n",
      "Requirement already satisfied: six>=1.5 in /home/jovyan/data/conda-envs/covid19/lib/python3.8/site-packages (from python-dateutil>=2.7.3->pandas->dabl) (1.14.0)\n",
      "Collecting hs_restclient\n",
      "  Downloading hs_restclient-1.3.7.tar.gz (17 kB)\n",
      "Collecting requests\n",
      "  Downloading requests-2.25.0-py2.py3-none-any.whl (61 kB)\n",
      "\u001b[K     |████████████████████████████████| 61 kB 3.9 MB/s eta 0:00:011\n",
      "\u001b[?25hCollecting requests_toolbelt\n",
      "  Downloading requests_toolbelt-0.9.1-py2.py3-none-any.whl (54 kB)\n",
      "\u001b[K     |████████████████████████████████| 54 kB 3.5 MB/s  eta 0:00:01\n",
      "\u001b[?25hCollecting oauthlib\n",
      "  Downloading oauthlib-3.1.0-py2.py3-none-any.whl (147 kB)\n",
      "\u001b[K     |████████████████████████████████| 147 kB 20.8 MB/s eta 0:00:01\n",
      "\u001b[?25hCollecting requests_oauthlib\n",
      "  Downloading requests_oauthlib-1.3.0-py2.py3-none-any.whl (23 kB)\n",
      "Collecting urllib3<1.27,>=1.21.1\n",
      "  Downloading urllib3-1.26.2-py2.py3-none-any.whl (136 kB)\n",
      "\u001b[K     |████████████████████████████████| 136 kB 24.2 MB/s eta 0:00:01\n",
      "\u001b[?25hRequirement already satisfied: certifi>=2017.4.17 in /home/jovyan/data/conda-envs/covid19/lib/python3.8/site-packages (from requests->hs_restclient) (2020.6.20)\n",
      "Collecting chardet<4,>=3.0.2\n",
      "  Downloading chardet-3.0.4-py2.py3-none-any.whl (133 kB)\n",
      "\u001b[K     |████████████████████████████████| 133 kB 23.9 MB/s eta 0:00:01\n",
      "\u001b[?25hCollecting idna<3,>=2.5\n",
      "  Downloading idna-2.10-py2.py3-none-any.whl (58 kB)\n",
      "\u001b[K     |████████████████████████████████| 58 kB 8.5 MB/s  eta 0:00:01\n",
      "\u001b[?25hBuilding wheels for collected packages: hs-restclient\n",
      "  Building wheel for hs-restclient (setup.py) ... \u001b[?25ldone\n",
      "\u001b[?25h  Created wheel for hs-restclient: filename=hs_restclient-1.3.7-py3-none-any.whl size=17226 sha256=11d8cd58bf4c1d4cdba74d3b200e123222bdcbea2619151839f72c3c5a55b4ac\n",
      "  Stored in directory: /home/jovyan/data/.cache/pip/wheels/c0/d0/f9/37cdeb8be8f94b722f4b769643faba61b97e9e736faf18647a\n",
      "Successfully built hs-restclient\n",
      "Installing collected packages: urllib3, chardet, idna, requests, requests-toolbelt, oauthlib, requests-oauthlib, hs-restclient\n",
      "Successfully installed chardet-3.0.4 hs-restclient-1.3.7 idna-2.10 oauthlib-3.1.0 requests-2.25.0 requests-oauthlib-1.3.0 requests-toolbelt-0.9.1 urllib3-1.26.2\n"
     ]
    }
   ],
   "source": [
    "import sys\n",
    "!{sys.executable} -m pip install sklearn\n",
    "!{sys.executable} -m pip install matplotlib \n",
    "!{sys.executable} -m pip install dabl\n",
    "!{sys.executable} -m pip install hs_restclient"
   ]
  },
  {
   "cell_type": "markdown",
   "metadata": {},
   "source": [
    "\n",
    "# References\n",
    "**Title: Waterhackweek Notebook to Update Software on a JupyterHub: COVID19 Kernel on CUAHSI JupyterHub (CJH)**\n",
    "<img src= \"https://github.com/waterhackweek/waterhackweek.github.io/blob/master/assets/images/waterhackweek2020logo-words.JPG?raw=true\"\n",
    "style=\"float:left;width:175px;padding:10px\">   \n",
    "Source: [WHW2020_machinelearning tutorial on Github](https://github.com/waterhackweek/whw2020_machine_learning)<br />\n",
    "Authors: Andreas Müller, Christina Bandaragoda<br />\n",
    "[Waterhackweek OrcID: 0000-0001-7733-7419](https://orcid.org/0000-0001-7733-7419)  <br />\n",
    "NSF Award to [UW 1829585](https://nsf.gov/awardsearch/showAward?AWD_ID=1829585&HistoricalAwards=false) and [CUAHSI 1829744](https://nsf.gov/awardsearch/showAward?AWD_ID=1829744&HistoricalAwards=false)  <br />\n",
    "[Download Machine Learning Tutorial at Waterhackweek: Live unedited tutorial recorded 9/2/2020 [MP4]](https://www.hydroshare.org/resource/c59689b403b3484182b016fbcd0267ac/data/contents/wednesdayLectures2020/2020.9._Andreas.mp4)<br />\n",
    "\n",
    "### Check out our [Intelligent Earth Zotero Library](https://www.zotero.org/groups/2526780/intelligent_earth/library) and Citation Wrangling Notebook [Open-Interoperability-References](https://github.com/waterhackweek/whw2020_machine_learning/blob/master/notebooks/Open-Interoperability-References.ipynb) \n"
   ]
  },
  {
   "cell_type": "code",
   "execution_count": null,
   "metadata": {},
   "outputs": [],
   "source": []
  }
 ],
 "metadata": {
  "anaconda-cloud": {},
  "kernelspec": {
   "display_name": "Python [conda env:covid19]",
   "language": "python",
   "name": "conda-env-covid19-py"
  },
  "language_info": {
   "codemirror_mode": {
    "name": "ipython",
    "version": 3
   },
   "file_extension": ".py",
   "mimetype": "text/x-python",
   "name": "python",
   "nbconvert_exporter": "python",
   "pygments_lexer": "ipython3",
   "version": "3.8.2"
  }
 },
 "nbformat": 4,
 "nbformat_minor": 4
}
